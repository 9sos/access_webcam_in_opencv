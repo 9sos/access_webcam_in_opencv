{
 "cells": [
  {
   "cell_type": "code",
   "execution_count": 31,
   "id": "9e79f558",
   "metadata": {},
   "outputs": [],
   "source": [
    "#import opencv for computer vision \n",
    "import cv2\n",
    "#import matplotlib for image visualization\n",
    "from matplotlib import pyplot as plt"
   ]
  },
  {
   "cell_type": "code",
   "execution_count": 32,
   "id": "ee7d6fc2",
   "metadata": {},
   "outputs": [],
   "source": [
    "#access the webcam for vc2\n",
    "cap =cv2.VideoCapture(0)"
   ]
  },
  {
   "cell_type": "code",
   "execution_count": 33,
   "id": "853627fc",
   "metadata": {},
   "outputs": [],
   "source": [
    "#get a frame from the capture device\n",
    "ret, frame = cap.read()"
   ]
  },
  {
   "cell_type": "code",
   "execution_count": 34,
   "id": "2dcf1309",
   "metadata": {},
   "outputs": [
    {
     "data": {
      "text/plain": [
       "True"
      ]
     },
     "execution_count": 34,
     "metadata": {},
     "output_type": "execute_result"
    }
   ],
   "source": [
    "ret"
   ]
  },
  {
   "cell_type": "code",
   "execution_count": 35,
   "id": "b6428986",
   "metadata": {},
   "outputs": [
    {
     "data": {
      "text/plain": [
       "array([[[127, 124, 132],\n",
       "        [128, 122, 137],\n",
       "        [129, 120, 143],\n",
       "        ...,\n",
       "        [172, 182, 238],\n",
       "        [172, 174, 239],\n",
       "        [168, 170, 235]],\n",
       "\n",
       "       [[128, 124, 131],\n",
       "        [129, 122, 136],\n",
       "        [130, 121, 141],\n",
       "        ...,\n",
       "        [183, 189, 245],\n",
       "        [186, 185, 250],\n",
       "        [179, 178, 243]],\n",
       "\n",
       "       [[133, 126, 129],\n",
       "        [132, 123, 133],\n",
       "        [132, 122, 137],\n",
       "        ...,\n",
       "        [186, 184, 242],\n",
       "        [189, 183, 247],\n",
       "        [189, 183, 247]],\n",
       "\n",
       "       ...,\n",
       "\n",
       "       [[122, 143, 168],\n",
       "        [135, 151, 173],\n",
       "        [140, 152, 170],\n",
       "        ...,\n",
       "        [ 84,  94, 121],\n",
       "        [ 86,  93, 123],\n",
       "        [ 84,  91, 121]],\n",
       "\n",
       "       [[129, 151, 178],\n",
       "        [135, 151, 174],\n",
       "        [139, 151, 169],\n",
       "        ...,\n",
       "        [ 76,  90, 120],\n",
       "        [ 78,  89, 128],\n",
       "        [ 78,  89, 128]],\n",
       "\n",
       "       [[128, 150, 179],\n",
       "        [134, 150, 173],\n",
       "        [139, 149, 168],\n",
       "        ...,\n",
       "        [ 77,  94, 125],\n",
       "        [ 75,  89, 132],\n",
       "        [ 75,  89, 132]]], dtype=uint8)"
      ]
     },
     "execution_count": 35,
     "metadata": {},
     "output_type": "execute_result"
    }
   ],
   "source": [
    "frame"
   ]
  },
  {
   "cell_type": "code",
   "execution_count": null,
   "id": "8f5e56e1",
   "metadata": {},
   "outputs": [],
   "source": [
    "plt.imshow(cv2.cvtColor(frame, cv2.COLOR_BGR2RGB)\n",
    "plt.show()"
   ]
  },
  {
   "cell_type": "code",
   "execution_count": 16,
   "id": "6498a51d",
   "metadata": {},
   "outputs": [],
   "source": [
    "# release the webcam\n",
    "cap.release()"
   ]
  },
  {
   "cell_type": "code",
   "execution_count": 37,
   "id": "7dae28e0",
   "metadata": {},
   "outputs": [],
   "source": [
    "def take_photo():\n",
    "    cap =cv2.VideoCapture(0)\n",
    "    ret, frame = cap.read()\n",
    "    cv2.imwrite('mywebcam_photo.jpg', frame)\n",
    "    cap.release()\n",
    "    "
   ]
  },
  {
   "cell_type": "code",
   "execution_count": 38,
   "id": "2e2ec419",
   "metadata": {},
   "outputs": [
    {
     "data": {
      "text/plain": [
       "<function __main__.take_photo()>"
      ]
     },
     "execution_count": 38,
     "metadata": {},
     "output_type": "execute_result"
    }
   ],
   "source": [
    "take_photo"
   ]
  },
  {
   "cell_type": "code",
   "execution_count": null,
   "id": "1eda1ac0",
   "metadata": {},
   "outputs": [],
   "source": [
    "#conncect to webcam on realtime\n",
    "cap =cv2.VideoCapture(0)\n",
    "while cap.isOpened():\n",
    "    ret, frame =cap.read()\n",
    "    \n",
    "    #show image\n",
    "    cv2.imshow('webcam', frame)\n",
    "    \n",
    "    #checks if q has been hit and stops the webcam\n",
    "    if cv2.waitKey(1) & 0xFF == ord('q'):\n",
    "        break\n",
    "\n",
    "cv2.release()\n",
    "cv2.destroyALLWindows()"
   ]
  },
  {
   "cell_type": "code",
   "execution_count": null,
   "id": "dd689800",
   "metadata": {},
   "outputs": [],
   "source": [
    "cap = cv2.VideoCapture(0)"
   ]
  },
  {
   "cell_type": "code",
   "execution_count": null,
   "id": "f23a4728",
   "metadata": {},
   "outputs": [],
   "source": [
    "cap.isOpened()"
   ]
  },
  {
   "cell_type": "code",
   "execution_count": null,
   "id": "16f2319d",
   "metadata": {},
   "outputs": [],
   "source": []
  }
 ],
 "metadata": {
  "kernelspec": {
   "display_name": "Python 3 (ipykernel)",
   "language": "python",
   "name": "python3"
  },
  "language_info": {
   "codemirror_mode": {
    "name": "ipython",
    "version": 3
   },
   "file_extension": ".py",
   "mimetype": "text/x-python",
   "name": "python",
   "nbconvert_exporter": "python",
   "pygments_lexer": "ipython3",
   "version": "3.9.13"
  }
 },
 "nbformat": 4,
 "nbformat_minor": 5
}
